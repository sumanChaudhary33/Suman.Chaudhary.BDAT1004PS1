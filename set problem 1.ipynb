{
 "cells": [
  {
   "cell_type": "code",
   "execution_count": 16,
   "id": "e0e6ee78",
   "metadata": {},
   "outputs": [
    {
     "name": "stdout",
     "output_type": "stream",
     "text": [
      "5 is of datatype: <class 'int'>\n",
      "5.0 is of datatype: <class 'float'>\n",
      "True is of datatype: <class 'bool'>\n",
      "5 is of datatype: <class 'str'>\n",
      "10 is of datatype: <class 'int'>\n",
      "55 is of datatype: <class 'str'>\n",
      "52 is of datatype: <class 'str'>\n",
      "2.5 is of datatype: <class 'float'>\n",
      "1 is of datatype: <class 'int'>\n",
      "{1, 2, 5} is of datatype: <class 'set'>\n",
      "False is of datatype: <class 'bool'>\n",
      "3.14159 is of datatype: <class 'float'>\n"
     ]
    }
   ],
   "source": [
    "data = [\n",
    "    5,\n",
    "    5.0,\n",
    "    5 > 1,\n",
    "    '5',\n",
    "    5 * 2,\n",
    "    '5' * 2,\n",
    "    '5' + '2',\n",
    "    5 / 2,\n",
    "    5 % 2,\n",
    "    {5, 2, 1},\n",
    "    5 == 3,\n",
    "    3.14159 #pi\n",
    "]\n",
    "\n",
    "for entry in data:\n",
    "    data_type = type(entry)\n",
    "    print(str(entry) + ' is of datatype: '+ str(data_type))\n"
   ]
  },
  {
   "cell_type": "code",
   "execution_count": 13,
   "id": "50d72630",
   "metadata": {},
   "outputs": [
    {
     "name": "stdout",
     "output_type": "stream",
     "text": [
      "34\n"
     ]
    }
   ],
   "source": [
    "word='Supercalifragilisticexpialidocious'\n",
    "letter=len(word)\n",
    "print(letter)"
   ]
  },
  {
   "cell_type": "code",
   "execution_count": 14,
   "id": "9c3e7e84",
   "metadata": {},
   "outputs": [
    {
     "name": "stdout",
     "output_type": "stream",
     "text": [
      "True\n"
     ]
    }
   ],
   "source": [
    "word='Supercalifragilisticexpialidocious'\n",
    "letter='ice' in word\n",
    "print(letter)"
   ]
  },
  {
   "cell_type": "code",
   "execution_count": 21,
   "id": "e99d3821",
   "metadata": {},
   "outputs": [
    {
     "name": "stdout",
     "output_type": "stream",
     "text": [
      "Supercalifragilisticexpialidocious\n"
     ]
    }
   ],
   "source": [
    "word_1='Supercalifragilisticexpialidocious'\n",
    "word_2='Honorificabilitudinitatibus'\n",
    "word_3='Bababadalgharaghtakamminarronnkonn'\n",
    "word =[word_1,word_2,word_3]\n",
    "longest=max(word,key=len)\n",
    "print(longest)\n"
   ]
  },
  {
   "cell_type": "code",
   "execution_count": 24,
   "id": "0d61f1da",
   "metadata": {},
   "outputs": [
    {
     "name": "stdout",
     "output_type": "stream",
     "text": [
      "First word: Bartok\n",
      "Last word: Buxtehude\n"
     ]
    }
   ],
   "source": [
    "word = ['Berlioz', 'Borodin', 'Brian', 'Bartok', 'Bellini', 'Buxtehude', 'Bernstein']\n",
    "word.sort()\n",
    "first_word = word[0]\n",
    "last_word = word[-1]\n",
    "print(\"First word:\", first_word)\n",
    "print(\"Last word:\", last_word)\n"
   ]
  },
  {
   "cell_type": "code",
   "execution_count": 25,
   "id": "c0ca100f",
   "metadata": {},
   "outputs": [
    {
     "name": "stdout",
     "output_type": "stream",
     "text": [
      "1.7320508075688772\n"
     ]
    }
   ],
   "source": [
    "import math\n",
    "def triangleArea(a, b, c):\n",
    "    s = (a + b + c) / 2\n",
    "    area = math.sqrt(s * (s - a) * (s - b) * (s - c))\n",
    "    return area\n",
    "output = triangleArea(2, 2, 2)\n",
    "print(output)\n"
   ]
  },
  {
   "cell_type": "code",
   "execution_count": 27,
   "id": "79e02ff3",
   "metadata": {},
   "outputs": [
    {
     "name": "stdout",
     "output_type": "stream",
     "text": [
      "the even elements are: [42, 56, 32]\n",
      "the odd elements are: [25, 47]\n"
     ]
    }
   ],
   "source": [
    "arr = [25, 47, 42, 56, 32]\n",
    "even=[]\n",
    "odd=[]\n",
    "for num in arr:\n",
    "    if num % 2 == 0:\n",
    "        even.append(num)\n",
    "    else:\n",
    "        odd.append(num)\n",
    "print('the even elements are:',even)\n",
    "print('the odd elements are:',odd)\n"
   ]
  },
  {
   "cell_type": "code",
   "execution_count": 53,
   "id": "35b16961",
   "metadata": {},
   "outputs": [
    {
     "name": "stdout",
     "output_type": "stream",
     "text": [
      "True\n",
      "False\n"
     ]
    }
   ],
   "source": [
    "def inside(x, y, x1, y1, x2, y2):\n",
    "    return x1 <= x <= x2 and y1 <= y <= y2\n",
    "\n",
    "print(inside(1, 1, 0, 0, 2, 3))  \n",
    "print(inside(-1, -1, 0, 0, 2, 3)) \n"
   ]
  },
  {
   "cell_type": "code",
   "execution_count": 52,
   "id": "a2809c21",
   "metadata": {},
   "outputs": [
    {
     "name": "stdout",
     "output_type": "stream",
     "text": [
      "The point (1, 1) does not lie in both rectangles.\n"
     ]
    }
   ],
   "source": [
    "def inside(x, y, x1, y1, x2, y2):\n",
    "    return x1 <= x <= x2 and y1 <= y <= y2\n",
    "\n",
    "x = 1\n",
    "y = 1\n",
    "\n",
    "rect1 = (0.3, 0.5, 1.1, 0.7)\n",
    "rect2 = (0.5, 0.2, 1.1, 2)\n",
    "\n",
    "point_in_rect1 = inside(x, y, *rect1)\n",
    "point_in_rect2 = inside(x, y, *rect2)\n",
    "\n",
    "if point_in_rect1 and point_in_rect2:\n",
    "    print(\"The point (1, 1) lies in both rectangles.\")\n",
    "else:\n",
    "    print(\"The point (1, 1) does not lie in both rectangles.\")\n"
   ]
  },
  {
   "cell_type": "code",
   "execution_count": 37,
   "id": "ac26d675",
   "metadata": {},
   "outputs": [
    {
     "name": "stdout",
     "output_type": "stream",
     "text": [
      "appyhay\n",
      "enterway\n"
     ]
    }
   ],
   "source": [
    "def pig(word):\n",
    "    word = word.lower()\n",
    "    \n",
    "    vowels = {'a', 'e', 'i', 'o', 'u'}\n",
    "    \n",
    "    if word[0] in vowels:\n",
    "        return word + 'way'\n",
    "    else:\n",
    "        for i in range(len(word)):\n",
    "            if word[i] in vowels:\n",
    "                return word[i:] + word[:i] + 'ay'\n",
    " \n",
    "result1 = pig('happy')\n",
    "print(result1)\n",
    "\n",
    "result2 = pig('Enter')\n",
    "print(result2)\n"
   ]
  },
  {
   "cell_type": "code",
   "execution_count": 47,
   "id": "e3f76b1f",
   "metadata": {},
   "outputs": [
    {
     "name": "stdout",
     "output_type": "stream",
     "text": [
      "There are 15 patients of blood type A.\n",
      "There is one patient of blood type B.\n",
      "There are 13 patients of blood type AB.\n",
      "There are 15 patients of blood type O.\n",
      "There are no patients of blood type OO.\n"
     ]
    }
   ],
   "source": [
    "def bldcount(filename):\n",
    "    try:\n",
    "        counts = {'A': 0, 'B': 0, 'AB': 0, 'O': 0, 'OO': 0}\n",
    "        with open(filename, 'r') as file:\n",
    "            blood_data = file.read().split()\n",
    "\n",
    "        for blood_type in blood_data:\n",
    "            if blood_type in counts:\n",
    "                counts[blood_type] += 1\n",
    "\n",
    "        for blood_type, count in counts.items():\n",
    "            if count == 1:\n",
    "                print(\"There is one patient of blood type \" + blood_type + \".\")\n",
    "            elif count > 1:\n",
    "                print(\"There are \" + str(count) + \" patients of blood type \" + blood_type + \".\")\n",
    "            else:\n",
    "                print(\"There are no patients of blood type \" + blood_type + \".\")\n",
    "\n",
    "    except FileNotFoundError:\n",
    "        print(\"File not found: \" + filename)\n",
    "    except Exception as e:\n",
    "        print(\"An error occurred: \" + str(e))\n",
    "\n",
    "bldcount('bloodtype.txt')\n"
   ]
  },
  {
   "cell_type": "code",
   "execution_count": 10,
   "id": "2d80e34d",
   "metadata": {},
   "outputs": [
    {
     "name": "stdout",
     "output_type": "stream",
     "text": [
      "122.96544\n",
      "1.241401\n"
     ]
    }
   ],
   "source": [
    "def curconv(currency, amount):\n",
    "    conversion_rates = {}\n",
    "    try:\n",
    "        with open('currencies.txt', 'r') as file:\n",
    "            for line in file:\n",
    "                parts = line.split()\n",
    "                code , rate = parts[:2]\n",
    "                conversion_rates[code] = float(rate)\n",
    "        \n",
    "        if currency in conversion_rates:\n",
    "            converted_amount = amount * conversion_rates[currency]\n",
    "            return converted_amount\n",
    "        else:\n",
    "            return \"Currency '\" + currency + \"' not found in the conversion rates.\"\n",
    "    \n",
    "    except FileNotFoundError:\n",
    "        return \"File 'currencies.txt' not found.\"\n",
    "\n",
    "\n",
    "print(curconv('EUR', 100)) \n",
    "print(curconv('JPY', 100))  "
   ]
  },
  {
   "cell_type": "code",
   "execution_count": 35,
   "id": "dc31406a",
   "metadata": {},
   "outputs": [
    {
     "name": "stdout",
     "output_type": "stream",
     "text": [
      "Scenario 1: TypeError\n",
      "Scenario 2: IndexError\n",
      "Scenario 3: ValueError\n",
      "Scenario 4: NameError\n",
      "Scenario 5: FileNotFoundError\n"
     ]
    }
   ],
   "source": [
    "import math\n",
    "\n",
    "try:\n",
    "    result = 6 + 'a'\n",
    "except Exception as e:\n",
    "    print(\"Scenario 1:\", type(e).__name__)\n",
    "\n",
    "try:\n",
    "    my_list = [1, 2, 3, 4, 5, 6, 7, 8, 9, 10]\n",
    "    item = my_list[12]\n",
    "except Exception as e:\n",
    "    print(\"Scenario 2:\", type(e).__name__)\n",
    "\n",
    "try:\n",
    "    result = math.sqrt(-1.0)\n",
    "except Exception as e:\n",
    "    print(\"Scenario 3:\", type(e).__name__)\n",
    "try:\n",
    "    print(x)\n",
    "except Exception as e:\n",
    "    print(\"Scenario 4:\", type(e).__name__)\n",
    "\n",
    "try:\n",
    "    with open('non_existent_file.txt', 'r'):\n",
    "        pass\n",
    "except Exception as e:\n",
    "    print(\"Scenario 5:\", type(e).__name__)\n"
   ]
  },
  {
   "cell_type": "code",
   "execution_count": 36,
   "id": "482b681e",
   "metadata": {},
   "outputs": [
    {
     "name": "stdout",
     "output_type": "stream",
     "text": [
      "[1, 1, 1, 3, 5, 1, 1, 2, 1, 0, 1, 0, 1, 2, 4, 0, 1, 2, 0, 3, 1, 0, 1, 1, 0, 0]\n",
      "[1, 0, 0, 0, 1, 0, 0, 0, 0, 0, 0, 1, 0, 0, 0, 2, 0, 0, 0, 0, 0, 0, 0, 0, 0, 0]\n"
     ]
    }
   ],
   "source": [
    "def frequencies(text):\n",
    "    letters = 'abcdefghijklmnopqrstuvwxyz'\n",
    "    letter_frequencies = [0] * 26\n",
    "    text = text.lower()\n",
    "    for char in text:\n",
    "        if char in letters:\n",
    "            index = ord(char) - ord('a')\n",
    "            letter_frequencies[index] += 1\n",
    "    return letter_frequencies\n",
    "result1 = frequencies('The quick red fox got bored and went home.')\n",
    "print(result1)\n",
    "result2 = frequencies('apple')\n",
    "print(result2)\n"
   ]
  },
  {
   "cell_type": "code",
   "execution_count": null,
   "id": "824b731a",
   "metadata": {},
   "outputs": [],
   "source": []
  }
 ],
 "metadata": {
  "kernelspec": {
   "display_name": "Python 3 (ipykernel)",
   "language": "python",
   "name": "python3"
  },
  "language_info": {
   "codemirror_mode": {
    "name": "ipython",
    "version": 3
   },
   "file_extension": ".py",
   "mimetype": "text/x-python",
   "name": "python",
   "nbconvert_exporter": "python",
   "pygments_lexer": "ipython3",
   "version": "3.11.4"
  }
 },
 "nbformat": 4,
 "nbformat_minor": 5
}
